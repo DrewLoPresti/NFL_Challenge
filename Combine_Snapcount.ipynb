{
 "cells": [
  {
   "cell_type": "code",
   "execution_count": 1,
   "metadata": {},
   "outputs": [],
   "source": [
    "import matplotlib.pyplot as plt\n",
    "import numpy as np\n",
    "import pandas as pd\n",
    "import seaborn as sns"
   ]
  },
  {
   "cell_type": "code",
   "execution_count": 2,
   "metadata": {},
   "outputs": [],
   "source": [
    "Combine_Snaps = pd.read_csv('football.csv')\n"
   ]
  },
  {
   "cell_type": "code",
   "execution_count": 3,
   "metadata": {},
   "outputs": [
    {
     "data": {
      "text/plain": [
       "Index(['Unnamed: 0', 'Name', 'Unnamed: 0.1', '20 Yard Shuttle', '40 Yard Dash',\n",
       "       '60 Yard Shuttle', 'Arm Length', 'Bench Press', 'Broad Jump', 'College',\n",
       "       'Grade', 'Hands', 'Height', 'Position', 'Three Cone Drill',\n",
       "       'Vertical Jump', 'Weight', 'Wonderlic', 'Year', 'SnapsPlayed_y'],\n",
       "      dtype='object')"
      ]
     },
     "execution_count": 3,
     "metadata": {},
     "output_type": "execute_result"
    }
   ],
   "source": [
    "Combine_Snaps.columns"
   ]
  },
  {
   "cell_type": "code",
   "execution_count": 4,
   "metadata": {},
   "outputs": [
    {
     "data": {
      "text/plain": [
       "Unnamed: 0            int64\n",
       "Name                 object\n",
       "Unnamed: 0.1          int64\n",
       "20 Yard Shuttle     float64\n",
       "40 Yard Dash        float64\n",
       "60 Yard Shuttle     float64\n",
       "Arm Length          float64\n",
       "Bench Press         float64\n",
       "Broad Jump          float64\n",
       "College              object\n",
       "Grade               float64\n",
       "Hands               float64\n",
       "Height              float64\n",
       "Position             object\n",
       "Three Cone Drill    float64\n",
       "Vertical Jump       float64\n",
       "Weight                int64\n",
       "Wonderlic           float64\n",
       "Year                  int64\n",
       "SnapsPlayed_y         int64\n",
       "dtype: object"
      ]
     },
     "execution_count": 4,
     "metadata": {},
     "output_type": "execute_result"
    }
   ],
   "source": [
    "Combine_Snaps.dtypes"
   ]
  },
  {
   "cell_type": "code",
   "execution_count": 10,
   "metadata": {},
   "outputs": [],
   "source": [
    "Combine_Snaps2 = Combine_Snaps.drop(['Name', 'Unnamed: 0', 'Unnamed: 0.1', '60 Yard Shuttle', 'College', 'Position', 'Grade', 'Wonderlic'], axis=1)"
   ]
  },
  {
   "cell_type": "code",
   "execution_count": 11,
   "metadata": {},
   "outputs": [
    {
     "data": {
      "text/plain": [
       "Index(['20 Yard Shuttle', '40 Yard Dash', 'Arm Length', 'Bench Press',\n",
       "       'Broad Jump', 'Hands', 'Height', 'Three Cone Drill', 'Vertical Jump',\n",
       "       'Weight', 'Year', 'SnapsPlayed_y'],\n",
       "      dtype='object')"
      ]
     },
     "execution_count": 11,
     "metadata": {},
     "output_type": "execute_result"
    }
   ],
   "source": [
    "Combine_Snaps2.columns"
   ]
  },
  {
   "cell_type": "code",
   "execution_count": 12,
   "metadata": {},
   "outputs": [
    {
     "data": {
      "text/plain": [
       "20 Yard Shuttle     float64\n",
       "40 Yard Dash        float64\n",
       "Arm Length          float64\n",
       "Bench Press         float64\n",
       "Broad Jump          float64\n",
       "Hands               float64\n",
       "Height              float64\n",
       "Three Cone Drill    float64\n",
       "Vertical Jump       float64\n",
       "Weight                int64\n",
       "Year                  int64\n",
       "SnapsPlayed_y         int64\n",
       "dtype: object"
      ]
     },
     "execution_count": 12,
     "metadata": {},
     "output_type": "execute_result"
    }
   ],
   "source": [
    "Combine_Snaps2.dtypes"
   ]
  },
  {
   "cell_type": "code",
   "execution_count": 13,
   "metadata": {},
   "outputs": [
    {
     "data": {
      "text/html": [
       "<div>\n",
       "<style scoped>\n",
       "    .dataframe tbody tr th:only-of-type {\n",
       "        vertical-align: middle;\n",
       "    }\n",
       "\n",
       "    .dataframe tbody tr th {\n",
       "        vertical-align: top;\n",
       "    }\n",
       "\n",
       "    .dataframe thead th {\n",
       "        text-align: right;\n",
       "    }\n",
       "</style>\n",
       "<table border=\"1\" class=\"dataframe\">\n",
       "  <thead>\n",
       "    <tr style=\"text-align: right;\">\n",
       "      <th></th>\n",
       "      <th>20 Yard Shuttle</th>\n",
       "      <th>40 Yard Dash</th>\n",
       "      <th>Arm Length</th>\n",
       "      <th>Bench Press</th>\n",
       "      <th>Broad Jump</th>\n",
       "      <th>Hands</th>\n",
       "      <th>Height</th>\n",
       "      <th>Three Cone Drill</th>\n",
       "      <th>Vertical Jump</th>\n",
       "      <th>Weight</th>\n",
       "      <th>Year</th>\n",
       "      <th>SnapsPlayed_y</th>\n",
       "    </tr>\n",
       "  </thead>\n",
       "  <tbody>\n",
       "    <tr>\n",
       "      <th>count</th>\n",
       "      <td>991.000000</td>\n",
       "      <td>1041.000000</td>\n",
       "      <td>1070.000000</td>\n",
       "      <td>1025.000000</td>\n",
       "      <td>1046.000000</td>\n",
       "      <td>1070.000000</td>\n",
       "      <td>1070.000000</td>\n",
       "      <td>998.000000</td>\n",
       "      <td>1047.000000</td>\n",
       "      <td>1070.000000</td>\n",
       "      <td>1070.000000</td>\n",
       "      <td>1070.000000</td>\n",
       "    </tr>\n",
       "    <tr>\n",
       "      <th>mean</th>\n",
       "      <td>3.274934</td>\n",
       "      <td>4.412815</td>\n",
       "      <td>16.264252</td>\n",
       "      <td>13.804878</td>\n",
       "      <td>105.894837</td>\n",
       "      <td>4.815654</td>\n",
       "      <td>72.768925</td>\n",
       "      <td>3.331152</td>\n",
       "      <td>31.687679</td>\n",
       "      <td>216.100935</td>\n",
       "      <td>2011.318692</td>\n",
       "      <td>1840.909346</td>\n",
       "    </tr>\n",
       "    <tr>\n",
       "      <th>std</th>\n",
       "      <td>1.776745</td>\n",
       "      <td>0.875243</td>\n",
       "      <td>16.023118</td>\n",
       "      <td>9.233038</td>\n",
       "      <td>38.737498</td>\n",
       "      <td>4.735905</td>\n",
       "      <td>2.257282</td>\n",
       "      <td>3.493370</td>\n",
       "      <td>10.616484</td>\n",
       "      <td>23.982007</td>\n",
       "      <td>4.118943</td>\n",
       "      <td>1623.636793</td>\n",
       "    </tr>\n",
       "    <tr>\n",
       "      <th>min</th>\n",
       "      <td>0.000000</td>\n",
       "      <td>0.000000</td>\n",
       "      <td>0.000000</td>\n",
       "      <td>0.000000</td>\n",
       "      <td>0.000000</td>\n",
       "      <td>0.000000</td>\n",
       "      <td>66.000000</td>\n",
       "      <td>0.000000</td>\n",
       "      <td>0.000000</td>\n",
       "      <td>156.000000</td>\n",
       "      <td>1999.000000</td>\n",
       "      <td>21.000000</td>\n",
       "    </tr>\n",
       "    <tr>\n",
       "      <th>25%</th>\n",
       "      <td>3.925000</td>\n",
       "      <td>4.450000</td>\n",
       "      <td>0.000000</td>\n",
       "      <td>7.000000</td>\n",
       "      <td>113.000000</td>\n",
       "      <td>0.000000</td>\n",
       "      <td>71.000000</td>\n",
       "      <td>0.000000</td>\n",
       "      <td>32.000000</td>\n",
       "      <td>198.000000</td>\n",
       "      <td>2009.000000</td>\n",
       "      <td>518.750000</td>\n",
       "    </tr>\n",
       "    <tr>\n",
       "      <th>50%</th>\n",
       "      <td>4.170000</td>\n",
       "      <td>4.550000</td>\n",
       "      <td>29.625000</td>\n",
       "      <td>16.000000</td>\n",
       "      <td>119.000000</td>\n",
       "      <td>8.250000</td>\n",
       "      <td>73.000000</td>\n",
       "      <td>0.000000</td>\n",
       "      <td>34.500000</td>\n",
       "      <td>212.000000</td>\n",
       "      <td>2012.000000</td>\n",
       "      <td>1346.500000</td>\n",
       "    </tr>\n",
       "    <tr>\n",
       "      <th>75%</th>\n",
       "      <td>4.300000</td>\n",
       "      <td>4.660000</td>\n",
       "      <td>32.000000</td>\n",
       "      <td>20.000000</td>\n",
       "      <td>123.000000</td>\n",
       "      <td>9.375000</td>\n",
       "      <td>74.000000</td>\n",
       "      <td>6.970000</td>\n",
       "      <td>37.000000</td>\n",
       "      <td>231.000000</td>\n",
       "      <td>2015.000000</td>\n",
       "      <td>2699.250000</td>\n",
       "    </tr>\n",
       "    <tr>\n",
       "      <th>max</th>\n",
       "      <td>4.950000</td>\n",
       "      <td>5.400000</td>\n",
       "      <td>35.375000</td>\n",
       "      <td>36.000000</td>\n",
       "      <td>147.000000</td>\n",
       "      <td>11.250000</td>\n",
       "      <td>79.000000</td>\n",
       "      <td>7.940000</td>\n",
       "      <td>46.000000</td>\n",
       "      <td>375.000000</td>\n",
       "      <td>2017.000000</td>\n",
       "      <td>6961.000000</td>\n",
       "    </tr>\n",
       "  </tbody>\n",
       "</table>\n",
       "</div>"
      ],
      "text/plain": [
       "       20 Yard Shuttle  40 Yard Dash   Arm Length  Bench Press   Broad Jump  \\\n",
       "count       991.000000   1041.000000  1070.000000  1025.000000  1046.000000   \n",
       "mean          3.274934      4.412815    16.264252    13.804878   105.894837   \n",
       "std           1.776745      0.875243    16.023118     9.233038    38.737498   \n",
       "min           0.000000      0.000000     0.000000     0.000000     0.000000   \n",
       "25%           3.925000      4.450000     0.000000     7.000000   113.000000   \n",
       "50%           4.170000      4.550000    29.625000    16.000000   119.000000   \n",
       "75%           4.300000      4.660000    32.000000    20.000000   123.000000   \n",
       "max           4.950000      5.400000    35.375000    36.000000   147.000000   \n",
       "\n",
       "             Hands       Height  Three Cone Drill  Vertical Jump       Weight  \\\n",
       "count  1070.000000  1070.000000        998.000000    1047.000000  1070.000000   \n",
       "mean      4.815654    72.768925          3.331152      31.687679   216.100935   \n",
       "std       4.735905     2.257282          3.493370      10.616484    23.982007   \n",
       "min       0.000000    66.000000          0.000000       0.000000   156.000000   \n",
       "25%       0.000000    71.000000          0.000000      32.000000   198.000000   \n",
       "50%       8.250000    73.000000          0.000000      34.500000   212.000000   \n",
       "75%       9.375000    74.000000          6.970000      37.000000   231.000000   \n",
       "max      11.250000    79.000000          7.940000      46.000000   375.000000   \n",
       "\n",
       "              Year  SnapsPlayed_y  \n",
       "count  1070.000000    1070.000000  \n",
       "mean   2011.318692    1840.909346  \n",
       "std       4.118943    1623.636793  \n",
       "min    1999.000000      21.000000  \n",
       "25%    2009.000000     518.750000  \n",
       "50%    2012.000000    1346.500000  \n",
       "75%    2015.000000    2699.250000  \n",
       "max    2017.000000    6961.000000  "
      ]
     },
     "execution_count": 13,
     "metadata": {},
     "output_type": "execute_result"
    }
   ],
   "source": [
    "Combine_Snaps2.describe()"
   ]
  },
  {
   "cell_type": "code",
   "execution_count": 14,
   "metadata": {},
   "outputs": [
    {
     "data": {
      "text/plain": [
       "1840.9093457943925"
      ]
     },
     "execution_count": 14,
     "metadata": {},
     "output_type": "execute_result"
    }
   ],
   "source": [
    "## 2699.25 = 3rd quartile ##\n",
    "\n",
    "Combine_Snaps2['SnapsPlayed_y'].mean()"
   ]
  },
  {
   "cell_type": "code",
   "execution_count": 15,
   "metadata": {},
   "outputs": [
    {
     "data": {
      "text/plain": [
       "1346.5"
      ]
     },
     "execution_count": 15,
     "metadata": {},
     "output_type": "execute_result"
    }
   ],
   "source": [
    "Combine_Snaps2['SnapsPlayed_y'].median()"
   ]
  },
  {
   "cell_type": "code",
   "execution_count": 16,
   "metadata": {},
   "outputs": [
    {
     "data": {
      "text/plain": [
       "Text(0.5,0.98,'')"
      ]
     },
     "execution_count": 16,
     "metadata": {},
     "output_type": "execute_result"
    },
    {
     "data": {
      "image/png": "[encoded data removed]",
      "text/plain": [
       "<matplotlib.figure.Figure at 0x20b73434748>"
      ]
     },
     "metadata": {},
     "output_type": "display_data"
    }
   ],
   "source": [
    "Combine_Snaps2.boxplot(column='SnapsPlayed_y', by = '40 Yard Dash')\n",
    "plt.suptitle(\"\")"
   ]
  },
  {
   "cell_type": "code",
   "execution_count": 46,
   "metadata": {},
   "outputs": [
    {
     "data": {
      "text/plain": [
       "Text(0.5,0.98,'')"
      ]
     },
     "execution_count": 46,
     "metadata": {},
     "output_type": "execute_result"
    },
    {
     "data": {
      "image/png": "[encoded data removed]",
      "text/plain": [
       "<matplotlib.figure.Figure at 0x20b757c94a8>"
      ]
     },
     "metadata": {},
     "output_type": "display_data"
    }
   ],
   "source": [
    "Combine_Snaps2.boxplot(column='SnapsPlayed_y', by = 'Bench Press')\n",
    "plt.suptitle(\"\")"
   ]
  },
  {
   "cell_type": "code",
   "execution_count": 47,
   "metadata": {},
   "outputs": [
    {
     "data": {
      "text/plain": [
       "Text(0.5,0.98,'')"
      ]
     },
     "execution_count": 47,
     "metadata": {},
     "output_type": "execute_result"
    },
    {
     "data": {
      "image/png": "[encoded data removed]",
      "text/plain": [
       "<matplotlib.figure.Figure at 0x20b758b9710>"
      ]
     },
     "metadata": {},
     "output_type": "display_data"
    }
   ],
   "source": [
    "Combine_Snaps2.boxplot(column='SnapsPlayed_y', by = '20 Yard Shuttle')\n",
    "plt.suptitle(\"\")"
   ]
  },
  {
   "cell_type": "code",
   "execution_count": 48,
   "metadata": {},
   "outputs": [
    {
     "data": {
      "text/plain": [
       "Text(0.5,0.98,'')"
      ]
     },
     "execution_count": 48,
     "metadata": {},
     "output_type": "execute_result"
    },
    {
     "data": {
      "image/png": "[encoded data removed]",
      "text/plain": [
       "<matplotlib.figure.Figure at 0x20b75eb9780>"
      ]
     },
     "metadata": {},
     "output_type": "display_data"
    }
   ],
   "source": [
    "Combine_Snaps2.boxplot(column='SnapsPlayed_y', by = 'Broad Jump')\n",
    "plt.suptitle(\"\")"
   ]
  },
  {
   "cell_type": "code",
   "execution_count": 49,
   "metadata": {},
   "outputs": [
    {
     "data": {
      "text/plain": [
       "Text(0.5,0.98,'')"
      ]
     },
     "execution_count": 49,
     "metadata": {},
     "output_type": "execute_result"
    },
    {
     "data": {
      "image/png": "[encoded data removed]",
      "text/plain": [
       "<matplotlib.figure.Figure at 0x20b773e37f0>"
      ]
     },
     "metadata": {},
     "output_type": "display_data"
    }
   ],
   "source": [
    "Combine_Snaps2.boxplot(column='SnapsPlayed_y', by = 'Vertical Jump')\n",
    "plt.suptitle(\"\")"
   ]
  },
  {
   "cell_type": "code",
   "execution_count": 50,
   "metadata": {},
   "outputs": [
    {
     "data": {
      "text/plain": [
       "Text(0.5,0.98,'')"
      ]
     },
     "execution_count": 50,
     "metadata": {},
     "output_type": "execute_result"
    },
    {
     "data": {
      "image/png": "[encoded data removed]",
      "text/plain": [
       "<matplotlib.figure.Figure at 0x20b777fd588>"
      ]
     },
     "metadata": {},
     "output_type": "display_data"
    }
   ],
   "source": [
    "Combine_Snaps2.boxplot(column='SnapsPlayed_y', by = 'Weight')\n",
    "plt.suptitle(\"\")"
   ]
  },
  {
   "cell_type": "code",
   "execution_count": null,
   "metadata": {},
   "outputs": [],
   "source": [
    "##Address this hard dropna()\n",
    "## fillna(mean)\n",
    "Combine_Snaps2 = Combine_Snaps2.dropna()"
   ]
  },
  {
   "cell_type": "code",
   "execution_count": 26,
   "metadata": {},
   "outputs": [
    {
     "name": "stdout",
     "output_type": "stream",
     "text": [
      "(973, 7) (973, 1)\n"
     ]
    }
   ],
   "source": [
    "\n",
    "\n",
    "# X (data) and y (target)\n",
    "X = Combine_Snaps2[['40 Yard Dash', 'Weight', 'Height', 'Bench Press', '20 Yard Shuttle', 'Broad Jump', 'Vertical Jump']]\n",
    "y = Combine_Snaps2['SnapsPlayed_y'].values.reshape(-1, 1)\n",
    "print(X.shape, y.shape)\n"
   ]
  },
  {
   "cell_type": "code",
   "execution_count": 27,
   "metadata": {},
   "outputs": [],
   "source": [
    "from sklearn.model_selection import train_test_split\n",
    "\n",
    "\n",
    "X_train, X_test, y_train, y_test = train_test_split(X,y, test_size =0.1)\n"
   ]
  },
  {
   "cell_type": "code",
   "execution_count": null,
   "metadata": {},
   "outputs": [],
   "source": []
  },
  {
   "cell_type": "code",
   "execution_count": 28,
   "metadata": {},
   "outputs": [
    {
     "data": {
      "text/plain": [
       "LinearRegression(copy_X=True, fit_intercept=True, n_jobs=1, normalize=False)"
      ]
     },
     "execution_count": 28,
     "metadata": {},
     "output_type": "execute_result"
    }
   ],
   "source": [
    "from sklearn.linear_model import LinearRegression\n",
    "model = LinearRegression()\n",
    "model.fit(X_train, y_train)"
   ]
  },
  {
   "cell_type": "code",
   "execution_count": 29,
   "metadata": {},
   "outputs": [
    {
     "data": {
      "image/png": "[encoded data removed]",
      "text/plain": [
       "<matplotlib.figure.Figure at 0x20b74647438>"
      ]
     },
     "metadata": {},
     "output_type": "display_data"
    }
   ],
   "source": [
    "# Make predictions using the X_testdata\n",
    "# Plot y_test_scaled vs y_test\n",
    "# Scatter plot y_test vs predictions\n",
    "\n",
    "predictions = model.predict(X_test)\n",
    "model.fit(X_train, y_train)\n",
    "plt.scatter(model.predict(X_train), model.predict(X_train) - y_train, c=\"blue\", label=\"Training Data\")\n",
    "plt.scatter(model.predict(X_test), model.predict(X_test) - y_test, c=\"orange\", label=\"Testing Data\")\n",
    "plt.legend()\n",
    "plt.hlines(y=0, xmin=y_test.min(), xmax=y_test.max())\n",
    "plt.title(\"Residual Plot\")\n",
    "plt.show()\n"
   ]
  },
  {
   "cell_type": "code",
   "execution_count": 30,
   "metadata": {},
   "outputs": [
    {
     "name": "stdout",
     "output_type": "stream",
     "text": [
      "MSE: 2547613.622836263, R2: -0.04379327647401766\n"
     ]
    }
   ],
   "source": [
    "from sklearn.metrics import mean_squared_error\n",
    "\n",
    "MSE = mean_squared_error(y_test, predictions)\n",
    "r2 = model.score(X_test, y_test)\n",
    "\n",
    "print(f\"MSE: {MSE}, R2: {r2}\")"
   ]
  },
  {
   "cell_type": "code",
   "execution_count": 31,
   "metadata": {},
   "outputs": [
    {
     "name": "stdout",
     "output_type": "stream",
     "text": [
      "MSE: 2547603.1441648137, R2: -0.043788983214354094\n"
     ]
    }
   ],
   "source": [
    "##Optional Model\n",
    "from sklearn.linear_model import Lasso\n",
    "\n",
    "lasso = Lasso(alpha=.01).fit(X_train, y_train)\n",
    "\n",
    "predictions = lasso.predict(X_test)\n",
    "\n",
    "MSE = mean_squared_error(y_test, predictions)\n",
    "r2 = lasso.score(X_test, y_test)\n",
    "\n",
    "\n",
    "print(f\"MSE: {MSE}, R2: {r2}\")"
   ]
  },
  {
   "cell_type": "code",
   "execution_count": 32,
   "metadata": {},
   "outputs": [
    {
     "name": "stdout",
     "output_type": "stream",
     "text": [
      "MSE: 2547613.079927911, R2: -0.043793054036799235\n"
     ]
    }
   ],
   "source": [
    "##Optional Model\n",
    "from sklearn.linear_model import Ridge\n",
    "\n",
    "\n",
    "ridge = Ridge(alpha=.01).fit(X_train, y_train)\n",
    "\n",
    "predictions = ridge.predict(X_test)\n",
    "\n",
    "MSE = mean_squared_error(y_test, predictions)\n",
    "r2 = ridge.score(X_test, y_test)\n",
    "\n",
    "\n",
    "print(f\"MSE: {MSE}, R2: {r2}\")"
   ]
  },
  {
   "cell_type": "code",
   "execution_count": 33,
   "metadata": {
    "scrolled": true
   },
   "outputs": [
    {
     "name": "stdout",
     "output_type": "stream",
     "text": [
      "MSE: 2547372.2862338205, R2: -0.043694397460049876\n"
     ]
    }
   ],
   "source": [
    "##Optional Model\n",
    "from sklearn.linear_model import ElasticNet\n",
    "\n",
    "\n",
    "elasticnet = ElasticNet(alpha=.01).fit(X_train, y_train)\n",
    "\n",
    "predictions = elasticnet.predict(X_test)\n",
    "\n",
    "MSE = mean_squared_error(y_test, predictions)\n",
    "r2 = elasticnet.score(X_test, y_test)\n",
    "\n",
    "\n",
    "print(f\"MSE: {MSE}, R2: {r2}\")"
   ]
  },
  {
   "cell_type": "code",
   "execution_count": null,
   "metadata": {},
   "outputs": [],
   "source": []
  },
  {
   "cell_type": "code",
   "execution_count": null,
   "metadata": {},
   "outputs": [],
   "source": []
  },
  {
   "cell_type": "code",
   "execution_count": null,
   "metadata": {},
   "outputs": [],
   "source": [
    "#Reset (X,y) For RandomForest##"
   ]
  },
  {
   "cell_type": "code",
   "execution_count": 95,
   "metadata": {},
   "outputs": [],
   "source": [
    "#Decision Tree\n",
    "from sklearn import tree\n",
    "from sklearn.ensemble import RandomForestClassifier"
   ]
  },
  {
   "cell_type": "code",
   "execution_count": 100,
   "metadata": {},
   "outputs": [
    {
     "name": "stdout",
     "output_type": "stream",
     "text": [
      "(973, 6) (973, 2)\n"
     ]
    }
   ],
   "source": [
    "# X (data) and y (target)\n",
    "X = Combine_Snaps2[['40 Yard Dash', 'Height', 'Bench Press', '20 Yard Shuttle', 'Broad Jump', 'Vertical Jump']]\n",
    "y = Combine_Snaps2[['SnapsPlayed_y', 'Weight']]\n",
    "print(X.shape, y.shape)"
   ]
  },
  {
   "cell_type": "code",
   "execution_count": 101,
   "metadata": {},
   "outputs": [
    {
     "data": {
      "text/plain": [
       "RandomForestClassifier(bootstrap=True, class_weight=None, criterion='gini',\n",
       "            max_depth=2, max_features='auto', max_leaf_nodes=None,\n",
       "            min_impurity_decrease=0.0, min_impurity_split=None,\n",
       "            min_samples_leaf=1, min_samples_split=2,\n",
       "            min_weight_fraction_leaf=0.0, n_estimators=100, n_jobs=None,\n",
       "            oob_score=False, random_state=0, verbose=0, warm_start=False)"
      ]
     },
     "execution_count": 101,
     "metadata": {},
     "output_type": "execute_result"
    }
   ],
   "source": [
    "\n",
    "clf = RandomForestClassifier(n_estimators=100, max_depth=2,\n",
    "                              random_state=0)\n",
    "clf.fit(X, y)\n",
    "RandomForestClassifier(bootstrap=True, class_weight=None, criterion='gini',\n",
    "            max_depth=2, max_features='auto', max_leaf_nodes=None,\n",
    "            min_impurity_decrease=0.0, min_impurity_split=None,\n",
    "            min_samples_leaf=1, min_samples_split=2,\n",
    "            min_weight_fraction_leaf=0.0, n_estimators=100, n_jobs=None,\n",
    "            oob_score=False, random_state=0, verbose=0, warm_start=False)\n",
    "\n"
   ]
  },
  {
   "cell_type": "code",
   "execution_count": 102,
   "metadata": {},
   "outputs": [
    {
     "name": "stdout",
     "output_type": "stream",
     "text": [
      "[0.18714339 0.29235782 0.20445777 0.09718696 0.1245578  0.09429626]\n"
     ]
    }
   ],
   "source": [
    "print(clf.feature_importances_)"
   ]
  },
  {
   "cell_type": "code",
   "execution_count": 106,
   "metadata": {},
   "outputs": [
    {
     "name": "stdout",
     "output_type": "stream",
     "text": [
      "[[2160.  196.]]\n"
     ]
    }
   ],
   "source": [
    "print(clf.predict([[0, 0, 0, 0, 0, 0]]))"
   ]
  },
  {
   "cell_type": "code",
   "execution_count": 113,
   "metadata": {},
   "outputs": [],
   "source": [
    "from sklearn.model_selection import RandomizedSearchCV"
   ]
  },
  {
   "cell_type": "code",
   "execution_count": 114,
   "metadata": {},
   "outputs": [],
   "source": [
    "grid_search=RandomizedSearchCV(RandomForestClassifier(random_state=1),paramgrid)"
   ]
  },
  {
   "cell_type": "code",
   "execution_count": 115,
   "metadata": {},
   "outputs": [],
   "source": [
    "from sklearn.model_selection import train_test_split\n",
    "x_train, x_cv, y_train, y_cv = train_test_split(X,y, test_size =0.3, random_state=1)"
   ]
  },
  {
   "cell_type": "code",
   "execution_count": 117,
   "metadata": {},
   "outputs": [
    {
     "data": {
      "text/plain": [
       "RandomizedSearchCV(cv=None, error_score='raise',\n",
       "          estimator=RandomForestClassifier(bootstrap=True, class_weight=None, criterion='gini',\n",
       "            max_depth=None, max_features='auto', max_leaf_nodes=None,\n",
       "            min_impurity_decrease=0.0, min_impurity_split=None,\n",
       "            min_samples_leaf=1, min_samples_split=2,\n",
       "            min_weight_fraction_leaf=0.0, n_estimators=10, n_jobs=1,\n",
       "            oob_score=False, random_state=1, verbose=0, warm_start=False),\n",
       "          fit_params=None, iid=True, n_iter=10, n_jobs=1,\n",
       "          param_distributions={'max_depth': [1, 3, 5, 7, 9, 11, 13, 15, 17, 19], 'n_estimators': [1, 21, 41, 61, 81, 101, 121, 141, 161, 181]},\n",
       "          pre_dispatch='2*n_jobs', random_state=None, refit=True,\n",
       "          return_train_score='warn', scoring=None, verbose=0)"
      ]
     },
     "execution_count": 117,
     "metadata": {},
     "output_type": "execute_result"
    }
   ],
   "source": [
    "# Estimating the optimized value\n",
    "grid_search"
   ]
  },
  {
   "cell_type": "code",
   "execution_count": null,
   "metadata": {},
   "outputs": [],
   "source": []
  }
 ],
 "metadata": {
  "kernelspec": {
   "display_name": "Python 3",
   "language": "python",
   "name": "python3"
  },
  "language_info": {
   "codemirror_mode": {
    "name": "ipython",
    "version": 3
   },
   "file_extension": ".py",
   "mimetype": "text/x-python",
   "name": "python",
   "nbconvert_exporter": "python",
   "pygments_lexer": "ipython3",
   "version": "3.6.4"
  }
 },
 "nbformat": 4,
 "nbformat_minor": 2
}
